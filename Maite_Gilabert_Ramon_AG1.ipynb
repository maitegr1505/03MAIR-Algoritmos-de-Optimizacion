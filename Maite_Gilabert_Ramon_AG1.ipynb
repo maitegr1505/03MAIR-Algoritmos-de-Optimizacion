{
  "nbformat": 4,
  "nbformat_minor": 0,
  "metadata": {
    "colab": {
      "name": "Maite Gilabert Ramon - AG1.ipynb",
      "provenance": [],
      "collapsed_sections": []
    },
    "kernelspec": {
      "name": "python3",
      "display_name": "Python 3"
    }
  },
  "cells": [
    {
      "cell_type": "markdown",
      "metadata": {
        "id": "dk5aPHwyYEPb"
      },
      "source": [
        "##**Algoritmos de Optimización - Actividad Guiada 1**\r\n",
        "\r\n",
        "AG1 - Actividad Guiada 1 Algoritmos de Optimización <BR>\r\n",
        "Maite Gilabert Ramón <BR>\r\n",
        "URL Google Colab: https://colab.research.google.com/drive/1jjTenC6K4Z7jBbFKXZnZxorNvJ2YGl6N?usp=sharing "
      ]
    },
    {
      "cell_type": "markdown",
      "metadata": {
        "id": "i9dBJ8yqfX4l"
      },
      "source": [
        "##Torres de Hanoi con Divide y Vencerás"
      ]
    },
    {
      "cell_type": "code",
      "metadata": {
        "colab": {
          "base_uri": "https://localhost:8080/"
        },
        "id": "WIqtSWF7fa7z",
        "outputId": "4d8830a8-a34d-41ba-85df-90724150dd3f"
      },
      "source": [
        "def Torres_Hanoi(N, desde, hasta): #N fichas, resolver \"desde\" torre \"hasta\" hasta\r\n",
        "  \r\n",
        "  #Problema de una ficha\r\n",
        "  if N == 1:\r\n",
        "    print(\"Lleva la ficha \" ,desde , \" hasta\", hasta )\r\n",
        "\r\n",
        "  else:\r\n",
        "    # Torres_Hanoi(N-1, desde, 6-desde-hasta)\r\n",
        "    Torres_Hanoi(N-1, desde, list({1,2,3}-{desde,hasta})[0] ) #elijo la torre vacía\r\n",
        "    print(\"Lleva la ficha \" ,desde , \" hasta\", hasta )\r\n",
        "\r\n",
        "    # Torres_Hanoi(N-1, 6-desde-hasta, hasta)\r\n",
        "    Torres_Hanoi(N-1, list({1,2,3}-{desde,hasta})[0], hasta ) \r\n",
        "\r\n",
        "\r\n",
        "#PROBAR FUNCIÓN \r\n",
        "#Torres_Hanoi(1,1,3)\r\n",
        "Torres_Hanoi(3,1,3)"
      ],
      "execution_count": null,
      "outputs": [
        {
          "output_type": "stream",
          "text": [
            "Lleva la ficha  1  hasta 3\n",
            "Lleva la ficha  1  hasta 2\n",
            "Lleva la ficha  3  hasta 2\n",
            "Lleva la ficha  1  hasta 3\n",
            "Lleva la ficha  2  hasta 1\n",
            "Lleva la ficha  2  hasta 3\n",
            "Lleva la ficha  1  hasta 3\n"
          ],
          "name": "stdout"
        }
      ]
    },
    {
      "cell_type": "code",
      "metadata": {
        "colab": {
          "base_uri": "https://localhost:8080/"
        },
        "id": "1TPFhQz4jKXv",
        "outputId": "cd2eab7c-3b96-4525-b7a4-f9803e68f898"
      },
      "source": [
        "{1,2,3} - {1,2}"
      ],
      "execution_count": null,
      "outputs": [
        {
          "output_type": "execute_result",
          "data": {
            "text/plain": [
              "{3}"
            ]
          },
          "metadata": {
            "tags": []
          },
          "execution_count": 5
        }
      ]
    },
    {
      "cell_type": "markdown",
      "metadata": {
        "id": "iNO12kGgs8Fw"
      },
      "source": [
        "##Devolución de cambio por técnica voraz"
      ]
    },
    {
      "cell_type": "code",
      "metadata": {
        "colab": {
          "base_uri": "https://localhost:8080/"
        },
        "id": "CBlw9-lrtGGn",
        "outputId": "176a772b-0291-4423-8d61-8a179b705336"
      },
      "source": [
        "def cambio_monedas(N, SM): #N es el valor al que queremos llegar\r\n",
        "  SOLUCION = [0]*len(SM) #SOLUCION = [0,0,0,0,...] Que monedas elegir del sistema monetario, Tantos 0 como monedas\r\n",
        "  ValorAcumulado = 0\r\n",
        "\r\n",
        "  for i,valor in enumerate(SM):\r\n",
        "    monedas = (N-ValorAcumulado)//valor #cauntas monedas necesitaremos de ese valor\r\n",
        "    SOLUCION[i] = monedas #guardarlo\r\n",
        "    ValorAcumulado = ValorAcumulado + monedas*valor #valor acumulado obtenido hasta el momento\r\n",
        "\r\n",
        "    if ValorAcumulado == N: #cuando lleguemos a la solución\r\n",
        "      return SOLUCION\r\n",
        "    \r\n",
        "cambio_monedas(37, [25,10,5,1])\r\n",
        "cambio_monedas(50, [25,10,5,1])\r\n",
        "cambio_monedas(137, [25,10,5,1])"
      ],
      "execution_count": null,
      "outputs": [
        {
          "output_type": "execute_result",
          "data": {
            "text/plain": [
              "[5, 1, 0, 2]"
            ]
          },
          "metadata": {
            "tags": []
          },
          "execution_count": 20
        }
      ]
    },
    {
      "cell_type": "code",
      "metadata": {
        "id": "6WWrMIaWwAi5"
      },
      "source": [
        "#siempre hace el mismo número de operaciones por muy grande que sea la cantidad a calcular"
      ],
      "execution_count": null,
      "outputs": []
    },
    {
      "cell_type": "markdown",
      "metadata": {
        "id": "PFSz1-7OyXQj"
      },
      "source": [
        "## N-Reinas por técnica de vuelta atrás"
      ]
    },
    {
      "cell_type": "code",
      "metadata": {
        "colab": {
          "base_uri": "https://localhost:8080/"
        },
        "id": "Qsz1we9cyd-Z",
        "outputId": "22a6a865-17f5-4ba0-9de2-2e833df3c24b"
      },
      "source": [
        "def escribe(S):\r\n",
        "  n = len(S)\r\n",
        "  for x in range(n):\r\n",
        "    print(\"\")\r\n",
        "    for i in range(n):\r\n",
        "      if S[i] == x+1:\r\n",
        "        print(\" X \", end=\"\")\r\n",
        "      else:\r\n",
        "        print(\" - \", end=\"\")\r\n",
        "\r\n",
        "\r\n",
        "def es_prometedora(SOLUCION, etapa):\r\n",
        "  #print(SOLUCION)\r\n",
        "\r\n",
        "  #Si la solución tiene dos valores iguales no es valida => Dos reinas en la misma fila\r\n",
        "  for i in range(etapa+1):\r\n",
        "    #print(\"El valor \" + str(SOLUCION[i]) + \" está \" +  str(SOLUCION.count(SOLUCION[i])) + \" veces\")\r\n",
        "    if SOLUCION.count(SOLUCION[i]) > 1:       \r\n",
        "      return False\r\n",
        "\r\n",
        "    #Verifica las diagonales\r\n",
        "    for j in range(i+1, etapa +1 ):\r\n",
        "      #print(\"Comprobando diagonal de \" + str(i) + \" y \" + str(j))\r\n",
        "      if abs(i-j) == abs(SOLUCION[i]-SOLUCION[j]) : return False\r\n",
        "  #Si no encuentro ninguna de las restricciones, devolvemos True\r\n",
        "  return True\r\n",
        "\r\n",
        "\r\n",
        "def reinas(N, solucion=[], etapa=0): #N reinas en el tablero, solucion, etapa\r\n",
        "  if len(solucion) == 0:\r\n",
        "    solucion=[0 for i in range(N)]\r\n",
        "\r\n",
        "  for i in range(1, N+1):\r\n",
        "    solucion[etapa] = i\r\n",
        "\r\n",
        "    if es_prometedora(solucion, etapa):\r\n",
        "      if etapa == N-1:\r\n",
        "        print(solucion)\r\n",
        "        escribe(solucion)\r\n",
        "        print()\r\n",
        "      else:\r\n",
        "        reinas(N, solucion, etapa+1)\r\n",
        "    else:\r\n",
        "      None \r\n",
        "\r\n",
        "    solucion[etapa] = 0\r\n",
        "\r\n",
        "\r\n",
        "\r\n",
        "reinas(4)"
      ],
      "execution_count": null,
      "outputs": [
        {
          "output_type": "stream",
          "text": [
            "[2, 4, 1, 3]\n",
            "\n",
            " -  -  X  - \n",
            " X  -  -  - \n",
            " -  -  -  X \n",
            " -  X  -  - \n",
            "[3, 1, 4, 2]\n",
            "\n",
            " -  X  -  - \n",
            " -  -  -  X \n",
            " X  -  -  - \n",
            " -  -  X  - \n"
          ],
          "name": "stdout"
        }
      ]
    }
  ]
}